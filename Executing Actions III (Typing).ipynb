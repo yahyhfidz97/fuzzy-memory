{
 "cells": [
  {
   "cell_type": "code",
   "execution_count": 1,
   "id": "44e024ed",
   "metadata": {},
   "outputs": [],
   "source": [
    "from selenium import webdriver\n",
    "from selenium.webdriver.common.action_chains import ActionChains\n",
    "from selenium.webdriver.common.keys import Keys\n",
    "import time"
   ]
  },
  {
   "cell_type": "code",
   "execution_count": 2,
   "id": "8b76def5",
   "metadata": {},
   "outputs": [],
   "source": [
    "driver_path = \"C:/Users/LENOVO/chromedriver-win64/chromedriver-win64/chromedriver.exe\"\n",
    "driver = webdriver.Chrome(executable_path=driver_path)\n",
    "driver.get(\"https://www.python.org/\")\n",
    "\n",
    "action = ActionChains(driver)\n",
    "search = driver.find_element_by_id('id-search-field')\n",
    "\n",
    "action.click(search).send_keys('Python').key_down(Keys.SPACE).send_keys('Chain')\n",
    "\n",
    "\n",
    "action.perform()\n",
    "time.sleep(5)\n",
    "\n",
    "\n",
    "driver.quit()\n"
   ]
  },
  {
   "cell_type": "code",
   "execution_count": null,
   "id": "da1713c6",
   "metadata": {},
   "outputs": [],
   "source": []
  }
 ],
 "metadata": {
  "kernelspec": {
   "display_name": "Python 3 (ipykernel)",
   "language": "python",
   "name": "python3"
  },
  "language_info": {
   "codemirror_mode": {
    "name": "ipython",
    "version": 3
   },
   "file_extension": ".py",
   "mimetype": "text/x-python",
   "name": "python",
   "nbconvert_exporter": "python",
   "pygments_lexer": "ipython3",
   "version": "3.11.5"
  }
 },
 "nbformat": 4,
 "nbformat_minor": 5
}
