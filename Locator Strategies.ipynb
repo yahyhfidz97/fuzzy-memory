{
 "cells": [
  {
   "cell_type": "code",
   "execution_count": 8,
   "id": "968da382",
   "metadata": {
    "scrolled": false
   },
   "outputs": [],
   "source": [
    "from selenium import webdriver\n",
    "from selenium.webdriver.common.by import By\n",
    "\n",
    "driver_path = \"C:/Users/LENOVO/chromedriver-win64/chromedriver-win64/chromedriver.exe\"\n",
    "driver = webdriver.Chrome(executable_path=driver_path)\n",
    "driver.get(\"https://www.python.org/\")"
   ]
  },
  {
   "cell_type": "code",
   "execution_count": 15,
   "id": "56406965",
   "metadata": {
    "scrolled": true
   },
   "outputs": [
    {
     "name": "stdout",
     "output_type": "stream",
     "text": [
      "<selenium.webdriver.remote.webelement.WebElement (session=\"288cb3e1531b372da987a364e599cd54\", element=\"99740D1B1CF1567DBBA7973398ED2DB9_element_62\")>\n"
     ]
    }
   ],
   "source": [
    "elt_1 = driver.find_element(By.ID, 'mainnav')\n",
    "elt_2 = driver.find_element(By.CLASS_NAME, 'donate-button')\n",
    "elt_3 = driver.find_element(By.XPATH, '//*[@id=\"touchnav-wrapper\"]/header/div/div[1]/a')\n",
    "elt_4 = driver.find_element(By.LINK_TEXT, 'Donate')\n",
    "print(elt_4)"
   ]
  },
  {
   "cell_type": "code",
   "execution_count": 18,
   "id": "2b341786",
   "metadata": {},
   "outputs": [
    {
     "name": "stdout",
     "output_type": "stream",
     "text": [
      "<selenium.webdriver.remote.webelement.WebElement (session=\"288cb3e1531b372da987a364e599cd54\", element=\"99740D1B1CF1567DBBA7973398ED2DB9_element_14\")>\n"
     ]
    }
   ],
   "source": [
    "elt_5 = driver.find_elements(By.TAG_NAME, 'div')\n",
    "elt_6 = driver.find_element(By.NAME, 'q')\n",
    "print(elt_6)\n"
   ]
  },
  {
   "cell_type": "code",
   "execution_count": null,
   "id": "67007a79",
   "metadata": {},
   "outputs": [],
   "source": []
  }
 ],
 "metadata": {
  "kernelspec": {
   "display_name": "Python 3 (ipykernel)",
   "language": "python",
   "name": "python3"
  },
  "language_info": {
   "codemirror_mode": {
    "name": "ipython",
    "version": 3
   },
   "file_extension": ".py",
   "mimetype": "text/x-python",
   "name": "python",
   "nbconvert_exporter": "python",
   "pygments_lexer": "ipython3",
   "version": "3.11.5"
  }
 },
 "nbformat": 4,
 "nbformat_minor": 5
}
