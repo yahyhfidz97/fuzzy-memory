{
 "cells": [
  {
   "cell_type": "code",
   "execution_count": 4,
   "id": "3d9dd1c1",
   "metadata": {},
   "outputs": [],
   "source": [
    "from selenium import webdriver\n",
    "from selenium.webdriver.common.action_chains import ActionChains\n",
    "import time\n",
    "\n"
   ]
  },
  {
   "cell_type": "code",
   "execution_count": 9,
   "id": "f8076006",
   "metadata": {},
   "outputs": [],
   "source": [
    "driver_path = \"C:/Users/LENOVO/chromedriver-win64/chromedriver-win64/chromedriver.exe\"\n",
    "driver = webdriver.Chrome(executable_path=driver_path)\n",
    "driver.get(\"https://www.python.org/\")\n",
    "\n",
    "action = ActionChains(driver)\n",
    "btn = driver.find_element_by_link_text('About')\n",
    "\n",
    "action.move_to_element_with_offset(btn, 150, 0).click()\n",
    "\n",
    "\n",
    "\n",
    "action.perform()\n",
    "time.sleep(20)\n",
    "\n",
    "\n",
    "driver.quit()\n"
   ]
  },
  {
   "cell_type": "code",
   "execution_count": null,
   "id": "ba56def4",
   "metadata": {},
   "outputs": [],
   "source": []
  },
  {
   "cell_type": "code",
   "execution_count": null,
   "id": "0c0f14a4",
   "metadata": {},
   "outputs": [],
   "source": []
  }
 ],
 "metadata": {
  "kernelspec": {
   "display_name": "Python 3 (ipykernel)",
   "language": "python",
   "name": "python3"
  },
  "language_info": {
   "codemirror_mode": {
    "name": "ipython",
    "version": 3
   },
   "file_extension": ".py",
   "mimetype": "text/x-python",
   "name": "python",
   "nbconvert_exporter": "python",
   "pygments_lexer": "ipython3",
   "version": "3.11.5"
  }
 },
 "nbformat": 4,
 "nbformat_minor": 5
}
