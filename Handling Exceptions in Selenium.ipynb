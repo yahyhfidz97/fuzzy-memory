{
 "cells": [
  {
   "cell_type": "code",
   "execution_count": 5,
   "id": "ccc7e200",
   "metadata": {},
   "outputs": [],
   "source": [
    "from selenium import webdriver\n",
    "from selenium.webdriver.common.action_chains import ActionChains\n",
    "from selenium.common.exceptions import NoSuchElementException\n",
    "import time"
   ]
  },
  {
   "cell_type": "code",
   "execution_count": 7,
   "id": "b09c3183",
   "metadata": {},
   "outputs": [
    {
     "name": "stdout",
     "output_type": "stream",
     "text": [
      "Element with the specified classname does not exist\n"
     ]
    }
   ],
   "source": [
    "driver_path = \"C:/Users/LENOVO/chromedriver-win64/chromedriver-win64/chromedriver.exe\"\n",
    "driver = webdriver.Chrome(executable_path=driver_path)\n",
    "driver.get(\"https://www.python.org/\")\n",
    "action = ActionChains(driver)\n",
    "\n",
    "try:\n",
    "    tab = driver.find_element_by_class_name('dinate-button')\n",
    "    tab.click()\n",
    "except NoSuchElementException:\n",
    "    print(\"Element with the specified classname does not exist\")\n",
    "\n",
    "action.perform()\n",
    "time.sleep(10)\n",
    "\n",
    "driver.quit()"
   ]
  },
  {
   "cell_type": "code",
   "execution_count": null,
   "id": "36edd12b",
   "metadata": {},
   "outputs": [],
   "source": []
  }
 ],
 "metadata": {
  "kernelspec": {
   "display_name": "Python 3 (ipykernel)",
   "language": "python",
   "name": "python3"
  },
  "language_info": {
   "codemirror_mode": {
    "name": "ipython",
    "version": 3
   },
   "file_extension": ".py",
   "mimetype": "text/x-python",
   "name": "python",
   "nbconvert_exporter": "python",
   "pygments_lexer": "ipython3",
   "version": "3.11.5"
  }
 },
 "nbformat": 4,
 "nbformat_minor": 5
}
