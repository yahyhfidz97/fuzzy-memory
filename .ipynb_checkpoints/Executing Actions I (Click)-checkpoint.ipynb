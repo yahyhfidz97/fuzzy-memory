{
 "cells": [
  {
   "cell_type": "code",
   "execution_count": 7,
   "id": "2b172b78",
   "metadata": {},
   "outputs": [],
   "source": [
    "from selenium import webdriver\n",
    "from selenium.webdriver.common.action_chains import ActionChains\n",
    "import time\n",
    "\n",
    "\n",
    "driver_path = \"C:/Users/LENOVO/chromedriver-win64/chromedriver-win64/chromedriver.exe\"\n",
    "driver = webdriver.Chrome(executable_path=driver_path)\n",
    "driver.get(\"https://www.python.org/\")\n",
    "\n",
    "action = ActionChains(driver)\n",
    "tab = driver.find_element_by_class_name('donate-button')\n",
    "\n",
    "action.click(on_element=tab)\n",
    "time.sleep(5)\n",
    "\n",
    "\n",
    "action.perform()\n",
    "time.sleep(10)\n",
    "\n",
    "#driver.close()\n",
    "driver.quit()"
   ]
  },
  {
   "cell_type": "code",
   "execution_count": null,
   "id": "f6e58bc3",
   "metadata": {},
   "outputs": [],
   "source": []
  }
 ],
 "metadata": {
  "kernelspec": {
   "display_name": "Python 3 (ipykernel)",
   "language": "python",
   "name": "python3"
  },
  "language_info": {
   "codemirror_mode": {
    "name": "ipython",
    "version": 3
   },
   "file_extension": ".py",
   "mimetype": "text/x-python",
   "name": "python",
   "nbconvert_exporter": "python",
   "pygments_lexer": "ipython3",
   "version": "3.11.5"
  }
 },
 "nbformat": 4,
 "nbformat_minor": 5
}
